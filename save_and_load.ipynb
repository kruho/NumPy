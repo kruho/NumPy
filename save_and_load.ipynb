{
 "cells": [
  {
   "cell_type": "markdown",
   "metadata": {},
   "source": [
    "# MNISTデータの読み込み\n",
    "- MNISTのデータを使ってNumPy配列の読み書きをやってみる"
   ]
  },
  {
   "cell_type": "code",
   "execution_count": 1,
   "metadata": {},
   "outputs": [
    {
     "name": "stderr",
     "output_type": "stream",
     "text": [
      "Using TensorFlow backend.\n"
     ]
    }
   ],
   "source": [
    "from keras.datasets import mnist\n",
    "\n",
    "(x_train, y_train), (x_test, y_test) = mnist.load_data()"
   ]
  },
  {
   "cell_type": "markdown",
   "metadata": {},
   "source": [
    "- NumPyデータの読み書きの方法は以下４通り。\n",
    "\n",
    "|保存|読み込み|ファイル形式| 拡張子 | 圧縮の有無|\n",
    "|:---|:---|:---|:---|\n",
    "| save | load | バイナリ | npy | 非圧縮|\n",
    "| savetxt | loadtxt | テキスト | | 非圧縮|\n",
    "| savez | load | バイナリ | npz | 非圧縮|\n",
    "| savez_compressed | load | バイナリ | npz | 圧縮・複数|"
   ]
  },
  {
   "cell_type": "markdown",
   "metadata": {},
   "source": [
    "## save & load\n",
    "- `f_save.npy`に`x_train`を保存する。\n",
    "- `f_save.npy`から読み込んだデータを`x_train_npy`に格納する。\n",
    "- 行の先頭に`%time`を付けることで実行時間を測定できる。Jupyter Notebookのみ。"
   ]
  },
  {
   "cell_type": "code",
   "execution_count": 2,
   "metadata": {},
   "outputs": [
    {
     "name": "stdout",
     "output_type": "stream",
     "text": [
      "CPU times: user 2.25 ms, sys: 65.6 ms, total: 67.9 ms\n",
      "Wall time: 85.7 ms\n",
      "CPU times: user 750 µs, sys: 28.6 ms, total: 29.3 ms\n",
      "Wall time: 30.3 ms\n"
     ]
    }
   ],
   "source": [
    "import numpy as np\n",
    "\n",
    "%time np.save(file='f_save', arr=x_train) # fileに拡張子は必要ない（勝手にnpyが付く）\n",
    "\n",
    "%time x_train_npy = np.load(file='f_save.npy') # loadするときは拡張子npyをちゃんと付ける"
   ]
  },
  {
   "cell_type": "markdown",
   "metadata": {},
   "source": [
    "## savetxt & loadtxt\n",
    "- `f_save.txt`に`x_train`を保存する。  \n",
    "＊savetxtでは2次元配列までしか保存できない。\n",
    "- `f_save.txt`から読み込んだデータを`x_train_txt`に格納する。\n",
    "- __基本的にNumPy配列はテキストで保存しない方が良い。書き込み・読み込み共に遅い。__"
   ]
  },
  {
   "cell_type": "code",
   "execution_count": 3,
   "metadata": {},
   "outputs": [
    {
     "name": "stdout",
     "output_type": "stream",
     "text": [
      "CPU times: user 19.7 s, sys: 987 ms, total: 20.7 s\n",
      "Wall time: 29.4 s\n",
      "CPU times: user 53.5 s, sys: 1.38 s, total: 54.9 s\n",
      "Wall time: 1min 16s\n"
     ]
    }
   ],
   "source": [
    "%time np.savetxt(fname='f_save.txt', X=np.reshape(x_train,(60000,784))) # fileに拡張子は必要\n",
    "\n",
    "%time x_train_txt = np.loadtxt(fname='f_save.txt') # loadするときも拡張子txtをちゃんと付ける"
   ]
  },
  {
   "cell_type": "markdown",
   "metadata": {},
   "source": [
    "# savez & load\n",
    "- savezでは複数のデータを1つのファイルに保存できる。\n",
    "    - 変数名とキーを区別するため、あえてキーは大文字にしている。\n",
    "- その他の仕様はsaveと同じ。"
   ]
  },
  {
   "cell_type": "code",
   "execution_count": 4,
   "metadata": {},
   "outputs": [
    {
     "name": "stdout",
     "output_type": "stream",
     "text": [
      "CPU times: user 80.5 ms, sys: 156 ms, total: 237 ms\n",
      "Wall time: 340 ms\n",
      "CPU times: user 480 µs, sys: 396 µs, total: 876 µs\n",
      "Wall time: 765 µs\n",
      "['X_TRAIN', 'X_TEST', 'Y_TRAIN', 'Y_TEST']\n"
     ]
    }
   ],
   "source": [
    "%time np.savez(file='f_savez', X_TRAIN=x_train, X_TEST=x_test, Y_TRAIN=y_train, Y_TEST=y_test)\n",
    "\n",
    "%time f = np.load('f_savez.npz')\n",
    "print(f.keys())"
   ]
  },
  {
   "cell_type": "markdown",
   "metadata": {},
   "source": [
    "- npz形式のファイルからデータを取り出す場合は、keys()でキーを確認して、そのキーで呼び出す。"
   ]
  },
  {
   "cell_type": "code",
   "execution_count": 5,
   "metadata": {},
   "outputs": [
    {
     "name": "stdout",
     "output_type": "stream",
     "text": [
      "[[[0 0 0 ..., 0 0 0]\n",
      "  [0 0 0 ..., 0 0 0]\n",
      "  [0 0 0 ..., 0 0 0]\n",
      "  ..., \n",
      "  [0 0 0 ..., 0 0 0]\n",
      "  [0 0 0 ..., 0 0 0]\n",
      "  [0 0 0 ..., 0 0 0]]\n",
      "\n",
      " [[0 0 0 ..., 0 0 0]\n",
      "  [0 0 0 ..., 0 0 0]\n",
      "  [0 0 0 ..., 0 0 0]\n",
      "  ..., \n",
      "  [0 0 0 ..., 0 0 0]\n",
      "  [0 0 0 ..., 0 0 0]\n",
      "  [0 0 0 ..., 0 0 0]]\n",
      "\n",
      " [[0 0 0 ..., 0 0 0]\n",
      "  [0 0 0 ..., 0 0 0]\n",
      "  [0 0 0 ..., 0 0 0]\n",
      "  ..., \n",
      "  [0 0 0 ..., 0 0 0]\n",
      "  [0 0 0 ..., 0 0 0]\n",
      "  [0 0 0 ..., 0 0 0]]\n",
      "\n",
      " ..., \n",
      " [[0 0 0 ..., 0 0 0]\n",
      "  [0 0 0 ..., 0 0 0]\n",
      "  [0 0 0 ..., 0 0 0]\n",
      "  ..., \n",
      "  [0 0 0 ..., 0 0 0]\n",
      "  [0 0 0 ..., 0 0 0]\n",
      "  [0 0 0 ..., 0 0 0]]\n",
      "\n",
      " [[0 0 0 ..., 0 0 0]\n",
      "  [0 0 0 ..., 0 0 0]\n",
      "  [0 0 0 ..., 0 0 0]\n",
      "  ..., \n",
      "  [0 0 0 ..., 0 0 0]\n",
      "  [0 0 0 ..., 0 0 0]\n",
      "  [0 0 0 ..., 0 0 0]]\n",
      "\n",
      " [[0 0 0 ..., 0 0 0]\n",
      "  [0 0 0 ..., 0 0 0]\n",
      "  [0 0 0 ..., 0 0 0]\n",
      "  ..., \n",
      "  [0 0 0 ..., 0 0 0]\n",
      "  [0 0 0 ..., 0 0 0]\n",
      "  [0 0 0 ..., 0 0 0]]]\n"
     ]
    }
   ],
   "source": [
    "x = f['X_TRAIN']\n",
    "print(x)"
   ]
  },
  {
   "cell_type": "markdown",
   "metadata": {},
   "source": [
    "# savez_compressed\n",
    "- savezと同じ。ただしファイルが圧縮される。省略"
   ]
  }
 ],
 "metadata": {
  "kernelspec": {
   "display_name": "Python 3",
   "language": "python",
   "name": "python3"
  },
  "language_info": {
   "codemirror_mode": {
    "name": "ipython",
    "version": 3
   },
   "file_extension": ".py",
   "mimetype": "text/x-python",
   "name": "python",
   "nbconvert_exporter": "python",
   "pygments_lexer": "ipython3",
   "version": "3.6.2"
  }
 },
 "nbformat": 4,
 "nbformat_minor": 2
}
